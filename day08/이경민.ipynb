{
 "cells": [
  {
   "cell_type": "markdown",
   "metadata": {},
   "source": [
    "## 1번 문제"
   ]
  },
  {
   "cell_type": "code",
   "execution_count": 1,
   "metadata": {},
   "outputs": [
    {
     "name": "stdout",
     "output_type": "stream",
     "text": [
      "죄송합니다, 쌤~ 어제 축구때문에...\n"
     ]
    }
   ],
   "source": [
    "# 1번 문제\n",
    "import math\n",
    "\n",
    "PI = 3.141592\n",
    "radius = float(input('반지름 값을 입력하시오'))\n",
    "area = (radius**2)*3.14\n",
    "print('원의 넓이는',area)"
   ]
  },
  {
   "cell_type": "markdown",
   "metadata": {},
   "source": [
    "## 2번 문제"
   ]
  },
  {
   "cell_type": "code",
   "execution_count": null,
   "metadata": {},
   "outputs": [],
   "source": [
    "# 2번 문제\n",
    "\n",
    "def dic(english):\n",
    "    planet = {'Mercury': '수성','Venus': '금성','Earth': '지구',\n",
    "    'Mars': '화성','Jupiter': '목성','Saturn': '토성','Uranus': '천왕성','Neptune': '해왕성'\n",
    "    }\n",
    "    # 대소문자 구분 없이 검색\n",
    "    korean = planet.get(english.capitalize())\n",
    "    \n",
    "    if korean:\n",
    "        return korean\n",
    "    else:\n",
    "        return '영어로 입력해주세요.'\n",
    "\n",
    "# 사용자로부터 이름 입력 받기\n",
    "english_name = input('행성의 영어 이름을 입력하세요: ')\n",
    "korean = dic(english_name)\n",
    "\n",
    "print(f'{english_name}의 영어 이름은 {korean}입니다.')\n"
   ]
  },
  {
   "cell_type": "markdown",
   "metadata": {},
   "source": [
    "## 3번 문제"
   ]
  },
  {
   "cell_type": "code",
   "execution_count": 2,
   "metadata": {},
   "outputs": [],
   "source": [
    "# 3번 문제\n",
    "\n",
    "s = input('영단어를 입력하시오')\n",
    "print(len(s))\n",
    "\n",
    "def solution(s):\n",
    "    answer = \"\"\n",
    "    arr = s.split(' ')\n",
    "    for i in range(0, len(arr)):\n",
    "        for j in range(0, len(arr[i])):\n",
    "            if(j%2==0):\n",
    "                answer += arr[i][j].upper()\n",
    "            else:\n",
    "                answer += arr[i][j].lower()\n",
    "        answer += ' '\n",
    "    answer = answer[:-1]\n",
    "    return answer\n",
    "\n",
    "print(solution(s))"
   ]
  },
  {
   "cell_type": "markdown",
   "metadata": {},
   "source": [
    "## 4번 문제"
   ]
  },
  {
   "cell_type": "code",
   "execution_count": 3,
   "metadata": {},
   "outputs": [],
   "source": [
    "# 4번 문제\n",
    "\n",
    "\n",
    "def get_url(english):\n",
    "    first = 'www.'\n",
    "    last = '.com'\n",
    "    add = first + english.lower() +last\n",
    "    return add\n",
    "\n",
    "input_1 = input('영문이름을 입력:')\n",
    "\n",
    "url = get_url(input_1)\n",
    "print(f'{input_1} 의 웹사이트 주소는{url}입니다')\n"
   ]
  },
  {
   "cell_type": "markdown",
   "metadata": {},
   "source": [
    "## 5번 문제"
   ]
  },
  {
   "cell_type": "code",
   "execution_count": 5,
   "metadata": {},
   "outputs": [],
   "source": [
    "# 5번 문제\n",
    "\n",
    "def print_multiple(number):\n",
    "    print(f'{number}단을 출력합니다:')\n",
    "    for i in range(1, 10):\n",
    "        result = number * i\n",
    "        print(f'{result}', end ='   ')\n",
    "\n",
    "# 사용자로부터 단번호 입력 받기\n",
    "while True:\n",
    "    try:\n",
    "        user_input = int(input('구구단을 출력할 단번호를 입력하세요 (1부터 9까지): '))\n",
    "        if 1 <= user_input <= 9:\n",
    "            break\n",
    "        else:\n",
    "            print('1부터 9까지의 숫자를 입력하세요.')\n",
    "    except ValueError:\n",
    "        print('숫자만을 입력하세요.')\n",
    "\n",
    "# 입력받은 단번호로 구구단 출력\n",
    "print_multiple(user_input)\n"
   ]
  }
 ],
 "metadata": {
  "kernelspec": {
   "display_name": "Python 3",
   "language": "python",
   "name": "python3"
  },
  "language_info": {
   "codemirror_mode": {
    "name": "ipython",
    "version": 3
   },
   "file_extension": ".py",
   "mimetype": "text/x-python",
   "name": "python",
   "nbconvert_exporter": "python",
   "pygments_lexer": "ipython3",
   "version": "3.11.5"
  }
 },
 "nbformat": 4,
 "nbformat_minor": 2
}
