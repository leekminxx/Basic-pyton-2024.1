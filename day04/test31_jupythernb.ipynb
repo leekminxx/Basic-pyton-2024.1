{
 "cells": [
  {
   "cell_type": "markdown",
   "metadata": {},
   "source": [
    "# 주피터 노트북 \n",
    "## 주피터 노트북 개요 \n",
    "주피터 노트북(Jupyther Notebook)에 대한 학습 \n",
    "\n",
    "### Jupyther NoterBook 이란?\n",
    "2015년 주피터 재단에서 만든 오픈소스 과학연구 목적 개발 플랫폼 \n",
    "\n",
    "\n",
    "\n",
    "\n",
    "\n"
   ]
  },
  {
   "cell_type": "markdown",
   "metadata": {},
   "source": [
    "### Jupyher Note 시작\n",
    "- VS Code > 보기 > 명령 팔레트...(Ctrl +shift + p) 시작\n",
    "- Create : 새 주피터 노트북 클릭 \n",
    "- Untitled-1.ipynb를 저장 "
   ]
  },
  {
   "cell_type": "markdown",
   "metadata": {},
   "source": [
    "### 주피터 노트북 영역 \n",
    "- 코드 : 파이썬 등 소스코드 작성 , 실행 공간\n",
    "- 마크다운 : 마크다운 설명 작성 공간 "
   ]
  },
  {
   "cell_type": "markdown",
   "metadata": {},
   "source": [
    "### 출력\n",
    "- Ctrl + F5실행은 안함(터미널 사용하지않음)\n",
    "- print()함수는 옵션 (단 노트북에서만 허용..py에서는 반드시print사용)"
   ]
  },
  {
   "cell_type": "code",
   "execution_count": 3,
   "metadata": {},
   "outputs": [
    {
     "name": "stdout",
     "output_type": "stream",
     "text": [
      "Hello , Jupyther!\n"
     ]
    }
   ],
   "source": [
    "print('Hello , Jupyther!')"
   ]
  },
  {
   "cell_type": "code",
   "execution_count": 9,
   "metadata": {},
   "outputs": [
    {
     "data": {
      "text/plain": [
       "'Hello Jupyther'"
      ]
     },
     "execution_count": 9,
     "metadata": {},
     "output_type": "execute_result"
    }
   ],
   "source": [
    "'Hello Jupyther'"
   ]
  },
  {
   "cell_type": "code",
   "execution_count": 10,
   "metadata": {},
   "outputs": [
    {
     "name": "stdout",
     "output_type": "stream",
     "text": [
      "10\n"
     ]
    }
   ],
   "source": [
    "a = 10\n",
    "print(a)"
   ]
  },
  {
   "cell_type": "markdown",
   "metadata": {},
   "source": [
    "### 주피터 노트북 단축키 \n",
    "- 셀 선택모드\n",
    "    - b : 아래에 새로운 셀 추가 \n",
    "    - m : 마크다운 셀로 변경\n",
    "    - y : 코드 셀로 변경\n",
    "    - shift + L  : 셀에 라인번호 토글 \n",
    "\n",
    "- 코드 입력모드\n",
    "    - Ctrl + Alt + Enter : 마크다운셀은 종료 , 코드셀 실행 \n",
    "    - Shift + Enter : 현재셀 닫고 , 아래 새 셀을 생성\n",
    "    - Ctrl +/: 주석처리 \n",
    "    "
   ]
  },
  {
   "cell_type": "markdown",
   "metadata": {},
   "source": [
    "### 콘솔 실행\n",
    "```shell\n",
    "!pip install | uninstall|lists 패키지명\n",
    "```\n"
   ]
  },
  {
   "cell_type": "code",
   "execution_count": 4,
   "metadata": {},
   "outputs": [
    {
     "ename": "SyntaxError",
     "evalue": "invalid syntax (1784760180.py, line 2)",
     "output_type": "error",
     "traceback": [
      "\u001b[1;36m  Cell \u001b[1;32mIn[4], line 2\u001b[1;36m\u001b[0m\n\u001b[1;33m    2 !pip install beautifulsoup4\u001b[0m\n\u001b[1;37m      ^\u001b[0m\n\u001b[1;31mSyntaxError\u001b[0m\u001b[1;31m:\u001b[0m invalid syntax\n"
     ]
    }
   ],
   "source": [
    "1# 파이썬 모듈 설치 \n",
    "2 !pip install beautifulsoup4"
   ]
  },
  {
   "cell_type": "markdown",
   "metadata": {},
   "source": [
    "### 주피터 노트북 작업방법\n",
    "- 코드셀 분리 \n",
    "    - 모듈추가(import) 한곳에 모음 \n",
    "    - 로직의 영영별로 코드셀 분리 작업\n",
    "\n",
    "\n",
    "#### 파일경로 테스트 \n",
    "```python\n",
    "import sys \n",
    "```\n"
   ]
  },
  {
   "cell_type": "code",
   "execution_count": 5,
   "metadata": {},
   "outputs": [],
   "source": [
    "# 모듈 추가 \n",
    "import os\n",
    "import sys\n"
   ]
  },
  {
   "cell_type": "markdown",
   "metadata": {},
   "source": [
    "실행경로 확인"
   ]
  },
  {
   "cell_type": "code",
   "execution_count": 7,
   "metadata": {},
   "outputs": [
    {
     "data": {
      "text/plain": [
       "'c:\\\\DEV\\\\LANGS\\\\Python311\\\\python.exe'"
      ]
     },
     "execution_count": 7,
     "metadata": {},
     "output_type": "execute_result"
    }
   ],
   "source": [
    "#사용중인 파이썬의 실제경로 \n",
    "sys.executable"
   ]
  },
  {
   "cell_type": "markdown",
   "metadata": {},
   "source": [
    "#### 주피터 노트북의 특징 \n",
    "- 코트셀 하나에서는 변수명만 적으면 제일 마지막 값만 출력.\n",
    "- 그래서 다 출력하고 싶으면 print() 써야함"
   ]
  },
  {
   "cell_type": "code",
   "execution_count": 11,
   "metadata": {},
   "outputs": [
    {
     "name": "stdout",
     "output_type": "stream",
     "text": [
      "c:\\DEV\\LANGS\\Python311\\python.exe\n",
      "sys.flags(debug=0, inspect=0, interactive=0, optimize=0, dont_write_bytecode=0, no_user_site=0, no_site=0, ignore_environment=0, verbose=0, bytes_warning=0, quiet=0, hash_randomization=1, isolated=0, dev_mode=False, utf8_mode=0, warn_default_encoding=0, safe_path=False, int_max_str_digits=-1)\n"
     ]
    }
   ],
   "source": [
    "print(sys.executable)\n",
    "print(sys.flags)\n"
   ]
  },
  {
   "cell_type": "markdown",
   "metadata": {},
   "source": [
    "#### 디거이\n",
    "- 중단점은 동일\n",
    "- 디벙긴은 C+RL _Shifd _ Shift + av;r"
   ]
  },
  {
   "cell_type": "markdown",
   "metadata": {},
   "source": [
    "### folium 지도 라이브러리 \n",
    "\n",
    "### 라이브러리(모듈) 설치\n",
    "```python\n",
    "! pip install folium\n",
    "```"
   ]
  },
  {
   "cell_type": "code",
   "execution_count": null,
   "metadata": {},
   "outputs": [],
   "source": [
    "# file : test32_folium_test.\n",
    "# "
   ]
  },
  {
   "cell_type": "markdown",
   "metadata": {},
   "source": [
    "라이브러리 임포트"
   ]
  },
  {
   "cell_type": "code",
   "execution_count": 12,
   "metadata": {},
   "outputs": [
    {
     "ename": "ModuleNotFoundError",
     "evalue": "No module named 'folium'",
     "output_type": "error",
     "traceback": [
      "\u001b[1;31m---------------------------------------------------------------------------\u001b[0m",
      "\u001b[1;31mModuleNotFoundError\u001b[0m                       Traceback (most recent call last)",
      "Cell \u001b[1;32mIn[12], line 1\u001b[0m\n\u001b[1;32m----> 1\u001b[0m \u001b[38;5;28;01mimport\u001b[39;00m \u001b[38;5;21;01mfolium\u001b[39;00m\n",
      "\u001b[1;31mModuleNotFoundError\u001b[0m: No module named 'folium'"
     ]
    }
   ],
   "source": [
    "import folium\n"
   ]
  },
  {
   "cell_type": "markdown",
   "metadata": {},
   "source": [
    "#### 지도생성\n",
    "- folium.Map() 클래스 생성자 실행\n",
    "    - 매개변수 location = [위도 , 경도]\n",
    "    - zoom_start = 1~20(지구본1~줌인20)\n",
    "\n",
    "    ```python\n",
    "    folium.map(location=[35.229499,129.090613]) , zoom_start=15)\n",
    "\n",
    "    ```"
   ]
  },
  {
   "cell_type": "code",
   "execution_count": null,
   "metadata": {},
   "outputs": [],
   "source": [
    "map = folium.Map(location=[35.229499 , 129.090613],zoom_start = 15)\n",
    "map\n"
   ]
  },
  {
   "cell_type": "code",
   "execution_count": null,
   "metadata": {},
   "outputs": [],
   "source": [
    "#riles 종류 = > openstreetmap , cartodb positron, cartodb dark_matter , open topomap \n",
    "map = folium.Map(location=[35.229499 , 129.090613],zoom_start = 15 , tiles ='cartodb positron')\n",
    "map\n"
   ]
  }
 ],
 "metadata": {
  "kernelspec": {
   "display_name": "Python 3",
   "language": "python",
   "name": "python3"
  },
  "language_info": {
   "codemirror_mode": {
    "name": "ipython",
    "version": 3
   },
   "file_extension": ".py",
   "mimetype": "text/x-python",
   "name": "python",
   "nbconvert_exporter": "python",
   "pygments_lexer": "ipython3",
   "version": "3.11.5"
  }
 },
 "nbformat": 4,
 "nbformat_minor": 2
}
