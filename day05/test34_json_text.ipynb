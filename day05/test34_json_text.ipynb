{
 "cells": [
  {
   "cell_type": "markdown",
   "metadata": {},
   "source": [
    "## SJON Input/Output\n",
    "JJON 읽고 쓰기 \n",
    "\n",
    "### JSON 포맷"
   ]
  },
  {
   "cell_type": "code",
   "execution_count": null,
   "metadata": {},
   "outputs": [],
   "source": [
    "# file : test34_json_test.ipynb\n",
    "# desc : json 예제\n",
    "json_ex = '{\"name\" : \"성명건\", \"age\" : 47}'"
   ]
  },
  {
   "cell_type": "markdown",
   "metadata": {},
   "source": [
    "### JSON 읽기\n",
    "\n",
    "json 모듈 가져오기 "
   ]
  },
  {
   "cell_type": "code",
   "execution_count": 1,
   "metadata": {},
   "outputs": [],
   "source": [
    "import json"
   ]
  },
  {
   "cell_type": "code",
   "execution_count": 10,
   "metadata": {},
   "outputs": [
    {
     "name": "stdout",
     "output_type": "stream",
     "text": [
      "{\n",
      "\t\"ionic\": {\n",
      "\t\t\"price\": 2000000,\n",
      "\t\t\"year\": \"2019\",\n",
      "\t\t\"auto\": true\n",
      "\t},\n",
      "\t\"genesis\": {\n",
      "\t\t\"price\": 800000000,\n",
      "\t\t\"year\": \"2022\",\n",
      "\t\t\"auto\": true\n",
      "\t},\n",
      "\t\"ferrari\": {\n",
      "\t\t\"price\": 15000000000,\n",
      "\t\t\"year\": \"2021\",\n",
      "\t\t\"auto\": false\n",
      "\t}\n",
      "}\n"
     ]
    }
   ],
   "source": [
    "file = open('../day05/car.json' , mode= 'r' , encoding = 'utf-8') \n",
    "data = json.load(file)\n",
    "file.close()\n",
    "\n",
    "print(json.dumps(data, indent='\\t')) #문자열로 변경\n"
   ]
  },
  {
   "cell_type": "markdown",
   "metadata": {},
   "source": [
    "## JSON 쓰기\n",
    "파이썬의 딕셔너리와 사용방법이 동일"
   ]
  },
  {
   "cell_type": "code",
   "execution_count": 13,
   "metadata": {},
   "outputs": [
    {
     "data": {
      "text/plain": [
       "15000000000"
      ]
     },
     "execution_count": 13,
     "metadata": {},
     "output_type": "execute_result"
    }
   ],
   "source": [
    "data['ferrari']['price']"
   ]
  },
  {
   "cell_type": "code",
   "execution_count": 15,
   "metadata": {},
   "outputs": [],
   "source": [
    "data['ferrari']['auto'] = True"
   ]
  },
  {
   "cell_type": "code",
   "execution_count": 16,
   "metadata": {},
   "outputs": [
    {
     "data": {
      "text/plain": [
       "{'ionic': {'price': 2000000, 'year': '2019', 'auto': True},\n",
       " 'genesis': {'price': 800000000, 'year': '2022', 'auto': True},\n",
       " 'ferrari': {'price': 15000000000, 'year': '2021', 'auto': True}}"
      ]
     },
     "execution_count": 16,
     "metadata": {},
     "output_type": "execute_result"
    }
   ],
   "source": [
    "data"
   ]
  },
  {
   "cell_type": "markdown",
   "metadata": {},
   "source": [
    "JSON 쓰기"
   ]
  },
  {
   "cell_type": "code",
   "execution_count": 17,
   "metadata": {},
   "outputs": [
    {
     "data": {
      "text/plain": [
       "{'audi': {'price': 30000000, 'year': '2024', 'auto': True},\n",
       " 'porsche': {'price': 100000000, 'year': '2017', 'auto': True}}"
      ]
     },
     "execution_count": 17,
     "metadata": {},
     "output_type": "execute_result"
    }
   ],
   "source": [
    "# json으로 만들 기본데이터 생성\n",
    "supercars = dict() #json은 딕셔너리랑 완전히 일치 ,생성시도 딕셔너리로 생성\n",
    "\n",
    "audi = dict() #내구데이터 딕셔너리 \n",
    "audi['price'] = 30000000\n",
    "audi['year'] = '2024'\n",
    "audi['auto'] = True\n",
    "\n",
    "porsche = dict()\n",
    "porsche ['price'] = 100000000\n",
    "porsche ['year'] = '2017'\n",
    "porsche ['auto'] = True\n",
    "\n",
    "supercars['audi'] = audi\n",
    "supercars['porsche'] = porsche\n",
    "\n",
    "supercars \n",
    "\n"
   ]
  },
  {
   "cell_type": "code",
   "execution_count": 25,
   "metadata": {},
   "outputs": [],
   "source": [
    "## json 파일 쓰기\n",
    "f = open('./supercars.json', mode='w', encoding='utf-8')\n",
    "json.dump(supercars,f,indent='\\t',ensure_ascii=True)\n",
    "f.close()"
   ]
  },
  {
   "cell_type": "markdown",
   "metadata": {},
   "source": []
  },
  {
   "cell_type": "code",
   "execution_count": 26,
   "metadata": {},
   "outputs": [],
   "source": [
    "## with -> 나는 클로즈를 내가 하고 싶지 않나. 니(python)가 해줘 \n",
    "with open('./supercars.json', mode='w', encoding='utf-8') as f2:\n",
    "    json.dump(supercars,f2,indent='\\t',ensure_ascii=True)"
   ]
  },
  {
   "cell_type": "code",
   "execution_count": 33,
   "metadata": {},
   "outputs": [
    {
     "name": "stdout",
     "output_type": "stream",
     "text": [
      "{\n",
      "\t\"audi\": {\n",
      "\t\t\"price\": 30000000,\n",
      "\t\t\"year\": \"2024\",\n",
      "\t\t\"auto\": true\n",
      "\t},\n",
      "\t\"porsche\": {\n",
      "\t\t\"price\": 100000000,\n",
      "\t\t\"year\": \"2017\",\n",
      "\t\t\"auto\": true\n",
      "\t}\n",
      "}\n"
     ]
    }
   ],
   "source": [
    "## with 사용\n",
    "with open('./supercars.json' , mode='r',encoding='utf-8')as file:\n",
    "    data = json.load(file)\n",
    "\n",
    "print(json.dumps(data , indent='\\t'))"
   ]
  }
 ],
 "metadata": {
  "kernelspec": {
   "display_name": "Python 3",
   "language": "python",
   "name": "python3"
  },
  "language_info": {
   "codemirror_mode": {
    "name": "ipython",
    "version": 3
   },
   "file_extension": ".py",
   "mimetype": "text/x-python",
   "name": "python",
   "nbconvert_exporter": "python",
   "pygments_lexer": "ipython3",
   "version": "3.11.5"
  }
 },
 "nbformat": 4,
 "nbformat_minor": 2
}
